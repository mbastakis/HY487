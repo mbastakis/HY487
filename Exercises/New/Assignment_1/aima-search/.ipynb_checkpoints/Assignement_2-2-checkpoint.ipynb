{
 "cells": [
  {
   "cell_type": "markdown",
   "metadata": {},
   "source": [
    "### 8-puzzle\n",
    "\n",
    "In this notebook, we will be writing the script that solves the 8 puzzle problem.\n",
    "\n",
    "Before moving on, please review search.ipynb!\n",
    "\n",
    "BUT before everything else....tell us who you are:"
   ]
  },
  {
   "cell_type": "markdown",
   "metadata": {},
   "source": [
    "### Student Number =\n",
    "\n",
    "### Name ="
   ]
  },
  {
   "cell_type": "code",
   "execution_count": 1,
   "metadata": {},
   "outputs": [],
   "source": [
    "from search import *\n",
    "import time\n",
    "import random\n",
    "import timeit"
   ]
  },
  {
   "cell_type": "code",
   "execution_count": 2,
   "metadata": {},
   "outputs": [],
   "source": [
    "class EightPuzzle(Problem):\n",
    "    \"\"\" The problem of sliding tiles numbered from 1 to 8 on a 3x3 board, where one of the\n",
    "    squares is a blank. A state is represented as a tuple of length 9, where  element at\n",
    "    index i represents the tile number  at index i (0 if it's an empty square) \"\"\"\n",
    "    \n",
    "    max_actions = 10000000\n",
    "    current_actions = 0\n",
    "    \n",
    "    def __init__(self, initial, goal=(1, 2, 3, 4, 5, 6, 7, 8, 0)):\n",
    "        \"\"\" Define goal state and initialize a problem \"\"\"\n",
    "        super().__init__(initial, goal)\n",
    "        \n",
    "\n",
    "    def find_blank_square(self, state):\n",
    "        \"\"\"Return the index of the blank square in a given state\"\"\"\n",
    "\n",
    "        return state.index(0)\n",
    "\n",
    "    def actions(self, state):\n",
    "        \"\"\" Return the actions that can be executed in the given state.\n",
    "        The result would be a list, since there are only four possible actions\n",
    "        in any given state of the environment \"\"\"\n",
    "\n",
    "        possible_actions = ['UP', 'DOWN', 'LEFT', 'RIGHT']\n",
    "        index_blank_square = self.find_blank_square(state)\n",
    "        \n",
    "        if index_blank_square % 3 == 0:\n",
    "            possible_actions.remove('LEFT')\n",
    "        if index_blank_square < 3:\n",
    "            possible_actions.remove('UP')\n",
    "        if index_blank_square % 3 == 2:\n",
    "            possible_actions.remove('RIGHT')\n",
    "        if index_blank_square > 5:\n",
    "            possible_actions.remove('DOWN')\n",
    "\n",
    "        return possible_actions\n",
    "\n",
    "    def result(self, state, action):\n",
    "        \"\"\" Given state and action, return a new state that is the result of the action.\n",
    "        Action is assumed to be a valid action in the state \"\"\"\n",
    "\n",
    "        # blank is the index of the blank square\n",
    "        blank = self.find_blank_square(state)\n",
    "        new_state = list(state)\n",
    "\n",
    "        delta = {'UP': -3, 'DOWN': 3, 'LEFT': -1, 'RIGHT': 1}\n",
    "        neighbor = blank + delta[action]\n",
    "        new_state[blank], new_state[neighbor] = new_state[neighbor], new_state[blank]\n",
    "        self.current_actions +=1\n",
    "        return tuple(new_state)\n",
    "\n",
    "    def goal_test(self, state):\n",
    "        \"\"\" Given a state, return True if state is a goal state or False, otherwise \"\"\"\n",
    "        \n",
    "        return (state == self.goal) or (self.current_actions>self.max_actions)\n",
    "\n",
    "    def check_solvability(self, state):\n",
    "        \"\"\" Checks if the given state is solvable \"\"\"\n",
    "\n",
    "        inversion = 0\n",
    "        for i in range(len(state)):\n",
    "            for j in range(i + 1, len(state)):\n",
    "                if (state[i] > state[j]) and state[i] != 0 and state[j] != 0:\n",
    "                    inversion += 1\n",
    "\n",
    "        return inversion % 2 == 0\n",
    "\n",
    "    def h(self, node):\n",
    "        \"\"\" Return the heuristic value for a given state. Default heuristic function used is \n",
    "        h(n) = number of misplaced tiles \"\"\"\n",
    "\n",
    "        return sum(s != g for (s, g) in zip(node.state, self.goal))\n"
   ]
  },
  {
   "cell_type": "code",
   "execution_count": 3,
   "metadata": {},
   "outputs": [
    {
     "name": "stdout",
     "output_type": "stream",
     "text": [
      "(1, 2, 3, 4, 5, 6, 7, 8, 0)\n",
      "(7, 0, 1, 3, 6, 8, 4, 5, 2)\n"
     ]
    }
   ],
   "source": [
    "goal = (1, 2, 3, 4, 5, 6, 7, 8, 0)\n",
    "initial_state =tuple(random.sample(list(goal),9))\n",
    "print(goal)\n",
    "print(initial_state)"
   ]
  },
  {
   "cell_type": "code",
   "execution_count": 7,
   "metadata": {},
   "outputs": [],
   "source": [
    "def run_singleTest(initial_state):\n",
    "    # your function needs to take as input the object of our problem\n",
    "    # and return all the necessary information of the solution per algorithm for comparison\n",
    "    \n",
    "    puzzle = EightPuzzle(initial_state)\n",
    "    results = []        \n",
    "        \n",
    "    ########################################################\n",
    "    #  add code here to test in a similar fashion as below #\n",
    "    #  4  algorithms for the same initial_state            #\n",
    "    ########################################################\n",
    "\n",
    "    '''\n",
    "    # IMPORTANT must add this before each algorithm call to reset actions\n",
    "    puzzle.current_actions = 0 \n",
    "    # start timing your execution\n",
    "    start_time = time.time()\n",
    "    # save important parameters\n",
    "    algorithm_results = {'Algorithm': 'RBFS',\n",
    "                  'Initial State': initial_state,\n",
    "                  'Final_State': recursive_best_first_search(puzzle)}\n",
    "\n",
    "    end_time = time.time() - start_time\n",
    "    algorithm_results['Time'] = end_time\n",
    "\n",
    "    # add algorithm results to returning parameter\n",
    "    results.append(algorithm_results)\n",
    "    '''\n",
    "        \n",
    "    return results"
   ]
  },
  {
   "cell_type": "code",
   "execution_count": 8,
   "metadata": {},
   "outputs": [],
   "source": [
    "solvable = False\n",
    "while not solvable:\n",
    "    initial_state =tuple(random.sample(list(goal),9))\n",
    "    solvable = EightPuzzle(initial_state).check_solvability(initial_state)"
   ]
  },
  {
   "cell_type": "code",
   "execution_count": 9,
   "metadata": {},
   "outputs": [
    {
     "name": "stdout",
     "output_type": "stream",
     "text": [
      "Initial State: (1, 8, 0, 6, 7, 2, 4, 5, 3)\n",
      "Algorithm: RBFS succeeded , Execution Time: 0.22\n",
      "Resulting solution: ['DOWN', 'DOWN', 'LEFT', 'UP', 'UP', 'RIGHT', 'DOWN', 'LEFT', 'LEFT', 'DOWN', 'RIGHT', 'RIGHT', 'UP', 'LEFT', 'DOWN', 'RIGHT'] ending in board: (1, 2, 3, 4, 5, 6, 7, 8, 0)\n"
     ]
    }
   ],
   "source": [
    "results = run_singleTest(initial_state)\n",
    "\n",
    "print(\"Initial State: \" + str(initial_state))\n",
    "for result in results:\n",
    "    if result['Final_State'].state == goal:   \n",
    "        print('Algorithm: ' + str(result['Algorithm']) + ' succeeded , Execution Time: ' + str(round(result['Time'],2)))\n",
    "        print('Resulting solution: ' + str(result['Final_State'].solution()) + ' ending in board: ' + str(result['Final_State'].state))\n",
    "    else:\n",
    "        print('Algorithm: ' + str(result['Algorithm']) + ' failed , Execution Time: ' + str(round(result['Time'],2)))\n",
    "        print('Resulting solution: ' + str(result['Final_State'].solution()) + ' ending in board: ' + str(result['Final_State'].state))\n"
   ]
  },
  {
   "cell_type": "markdown",
   "metadata": {},
   "source": [
    "After filling in the function that conducts a comparison amongst algorithms for a single intial state.\n",
    "Run 1000 comparisons for random SOLVABLE initial states"
   ]
  },
  {
   "cell_type": "code",
   "execution_count": null,
   "metadata": {},
   "outputs": [],
   "source": []
  }
 ],
 "metadata": {
  "kernelspec": {
   "display_name": "Python 3",
   "language": "python",
   "name": "python3"
  },
  "language_info": {
   "codemirror_mode": {
    "name": "ipython",
    "version": 3
   },
   "file_extension": ".py",
   "mimetype": "text/x-python",
   "name": "python",
   "nbconvert_exporter": "python",
   "pygments_lexer": "ipython3",
   "version": "3.8.8"
  }
 },
 "nbformat": 4,
 "nbformat_minor": 4
}
